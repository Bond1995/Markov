{
 "cells": [
  {
   "cell_type": "code",
   "execution_count": 2,
   "id": "963b5d7c",
   "metadata": {},
   "outputs": [],
   "source": [
    "import torch"
   ]
  },
  {
   "cell_type": "code",
   "execution_count": 3,
   "id": "9b0265ee-3ddf-42d2-8bea-b9398604424c",
   "metadata": {},
   "outputs": [],
   "source": [
    "probs = torch.tensor([[[0.0,1.0],[0.0,1.0]],[[1.0,0.0],[1.0,0.0]]])\n",
    "x = torch.tensor([[0,0],[1.0,1]])"
   ]
  },
  {
   "cell_type": "code",
   "execution_count": 9,
   "id": "0a25b821-518d-4272-8a86-d5b69c30edcb",
   "metadata": {},
   "outputs": [
    {
     "data": {
      "text/plain": [
       "tensor([0., 1.])"
      ]
     },
     "execution_count": 9,
     "metadata": {},
     "output_type": "execute_result"
    }
   ],
   "source": [
    "probs[x==0].mean(dim=0)"
   ]
  },
  {
   "cell_type": "code",
   "execution_count": 25,
   "id": "79513ab6-c1db-4f09-b55c-465f5ead6453",
   "metadata": {},
   "outputs": [
    {
     "data": {
      "text/plain": [
       "tensor([0., 0., 1., 1.])"
      ]
     },
     "execution_count": 25,
     "metadata": {},
     "output_type": "execute_result"
    }
   ],
   "source": []
  },
  {
   "cell_type": "code",
   "execution_count": null,
   "id": "cc07a5f0-6755-4a48-97f2-a46fb9d7a517",
   "metadata": {},
   "outputs": [],
   "source": []
  }
 ],
 "metadata": {
  "kernelspec": {
   "display_name": "Python 3 (ipykernel)",
   "language": "python",
   "name": "python3"
  },
  "language_info": {
   "codemirror_mode": {
    "name": "ipython",
    "version": 3
   },
   "file_extension": ".py",
   "mimetype": "text/x-python",
   "name": "python",
   "nbconvert_exporter": "python",
   "pygments_lexer": "ipython3",
   "version": "3.9.12"
  }
 },
 "nbformat": 4,
 "nbformat_minor": 5
}
