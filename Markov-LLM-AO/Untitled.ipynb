{
 "cells": [
  {
   "cell_type": "code",
   "execution_count": 1,
   "id": "963b5d7c",
   "metadata": {},
   "outputs": [],
   "source": [
    "import torch\n",
    "import numpy as np"
   ]
  },
  {
   "cell_type": "code",
   "execution_count": 2,
   "id": "9b0265ee-3ddf-42d2-8bea-b9398604424c",
   "metadata": {},
   "outputs": [],
   "source": [
    "p = 0.2\n",
    "q = 0.3\n",
    "P = torch.Tensor([[1-p,p],[q,1-q]])"
   ]
  },
  {
   "cell_type": "code",
   "execution_count": 9,
   "id": "0a25b821-518d-4272-8a86-d5b69c30edcb",
   "metadata": {},
   "outputs": [
    {
     "data": {
      "text/plain": [
       "tensor([0., 1.])"
      ]
     },
     "execution_count": 9,
     "metadata": {},
     "output_type": "execute_result"
    }
   ],
   "source": [
    "def entropy(v):\n",
    "    v = v.flatten()\n",
    "    e = torch.sum(-v*torch.log(v))\n",
    "    return e"
   ]
  },
  {
   "cell_type": "code",
   "execution_count": 11,
   "id": "79513ab6-c1db-4f09-b55c-465f5ead6453",
   "metadata": {},
   "outputs": [],
   "source": [
    "def get_entropy_rate(P):\n",
    "    evals, evecs = torch.linalg.eig(P.T)\n",
    "    idx = torch.isclose(evals.real, torch.ones(evals.shape))\n",
    "    evec1 = evecs[:,idx]\n",
    "    evec1 = evec1[:,0]\n",
    "    stationary = evec1 / evec1.sum()\n",
    "    return stationary.real @ torch.sum(-P*torch.log(P), dim=1)"
   ]
  },
  {
   "cell_type": "code",
   "execution_count": 12,
   "id": "cc07a5f0-6755-4a48-97f2-a46fb9d7a517",
   "metadata": {},
   "outputs": [
    {
     "data": {
      "text/plain": [
       "tensor([0.5004, 0.6109])"
      ]
     },
     "execution_count": 12,
     "metadata": {},
     "output_type": "execute_result"
    }
   ],
   "source": [
    "torch.sum(-P*torch.log(P), dim=1)"
   ]
  },
  {
   "cell_type": "code",
   "execution_count": 13,
   "id": "b902f327-4f7e-4fb3-a131-1d40c419f6e7",
   "metadata": {},
   "outputs": [
    {
     "data": {
      "text/plain": [
       "tensor(0.5446)"
      ]
     },
     "execution_count": 13,
     "metadata": {},
     "output_type": "execute_result"
    }
   ],
   "source": [
    "get_entropy_rate(P)"
   ]
  },
  {
   "cell_type": "code",
   "execution_count": null,
   "id": "3dd4e4be-a39b-424c-b897-7636d9fea661",
   "metadata": {},
   "outputs": [],
   "source": []
  }
 ],
 "metadata": {
  "kernelspec": {
   "display_name": "Python 3 (ipykernel)",
   "language": "python",
   "name": "python3"
  },
  "language_info": {
   "codemirror_mode": {
    "name": "ipython",
    "version": 3
   },
   "file_extension": ".py",
   "mimetype": "text/x-python",
   "name": "python",
   "nbconvert_exporter": "python",
   "pygments_lexer": "ipython3",
   "version": "3.11.5"
  }
 },
 "nbformat": 4,
 "nbformat_minor": 5
}
