{
 "cells": [
  {
   "cell_type": "code",
   "execution_count": 3,
   "id": "9bf6ada3-1279-4acb-8333-b0f0a7952d66",
   "metadata": {},
   "outputs": [],
   "source": [
    "import torch\n",
    "import numpy as np\n",
    "import matplotlib.pyplot as plt"
   ]
  },
  {
   "cell_type": "code",
   "execution_count": 4,
   "id": "af99a85a-49b8-4ce2-8397-0c9b322e4af5",
   "metadata": {},
   "outputs": [],
   "source": [
    "wpe = []\n",
    "c_fc = []\n",
    "att_qkv = []\n",
    "for i in [0, 1, 500]:\n",
    "    #wpe.append(np.load('files/wpe-'+str(i)+'.pt.npy'))\n",
    "    #c_fc.append(np.load('files/c_fc-'+str(i)+'.pt.npy'))\n",
    "    att_qkv.append(np.load('files/att-qkv-'+str(i)+'.pt.npy'))"
   ]
  },
  {
   "cell_type": "code",
   "execution_count": 7,
   "id": "b0253e1e-064e-4b62-a6ba-34e529500a54",
   "metadata": {},
   "outputs": [
    {
     "data": {
      "image/png": "[encoded data removed]",
      "text/plain": [
       "<Figure size 640x480 with 2 Axes>"
      ]
     },
     "metadata": {},
     "output_type": "display_data"
    }
   ],
   "source": [
    "plt.imshow(wpe[0][:100], cmap='Blues', interpolation='nearest')\n",
    "plt.colorbar(location='top', shrink=0.6)\n",
    "plt.show()"
   ]
  },
  {
   "cell_type": "code",
   "execution_count": null,
   "id": "acd97abb-65a2-466b-9596-788df6aa16f2",
   "metadata": {},
   "outputs": [],
   "source": []
  }
 ],
 "metadata": {
  "kernelspec": {
   "display_name": "Python 3 (ipykernel)",
   "language": "python",
   "name": "python3"
  },
  "language_info": {
   "codemirror_mode": {
    "name": "ipython",
    "version": 3
   },
   "file_extension": ".py",
   "mimetype": "text/x-python",
   "name": "python",
   "nbconvert_exporter": "python",
   "pygments_lexer": "ipython3",
   "version": "3.11.5"
  }
 },
 "nbformat": 4,
 "nbformat_minor": 5
}
